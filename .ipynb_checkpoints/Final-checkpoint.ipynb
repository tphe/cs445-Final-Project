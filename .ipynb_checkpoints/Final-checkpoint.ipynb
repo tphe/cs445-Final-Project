{
 "cells": [
  {
   "cell_type": "markdown",
   "metadata": {},
   "source": [
    "# Programming Final Project: Gradient"
   ]
  },
  {
   "cell_type": "markdown",
   "metadata": {},
   "source": [
    "## CS445: Computational Photography - Spring 2020"
   ]
  },
  {
   "cell_type": "markdown",
   "metadata": {},
   "source": [
    "### Proposal:\n",
    "We propose to create a drawing animation algorithm to “draw” a still image provided by the user. Using gradient domains we will create a “line drawing” representation of the image, then create an algorithm that fills in these lines over the course of a short animation, as if an artist were drawing the image.\n",
    "\n",
    "### Motivation:\n",
    "This project will utilize techniques learned in the class, such as gradient domains, to build an animation that can be used as an aid for students learning to draw from still images, or as an effect that could be used in places like movie trailers. This is a feature that could be used in image/video software like Photoshop or After Effects.\n"
   ]
  },
  {
   "cell_type": "code",
   "execution_count": 1,
   "metadata": {},
   "outputs": [],
   "source": [
    "\n",
    "\n",
    "# System imports\n",
    "from os import path\n",
    "import math\n",
    "from random import sample \n",
    "from scipy.sparse import csr_matrix\n",
    "from scipy.sparse import lil_matrix\n",
    "import scipy.sparse.linalg as la\n",
    "import statistics\n",
    "\n",
    "\n",
    "# Third-Party Imports\n",
    "import cv2\n",
    "import matplotlib.pyplot as plt\n",
    "import numpy as np\n",
    "from scipy.interpolate import griddata\n",
    "\n",
    "import warnings\n",
    "warnings.filterwarnings('ignore')\n",
    "\n",
    "import PIL\n",
    "from PIL import Image, ImageDraw\n",
    "import pprint\n",
    "from scipy.interpolate import splprep, splev\n",
    "\n",
    "\n",
    "\n",
    "def plot_img(images, titles):\n",
    "    fig, axs = plt.subplots(nrows = 1, ncols = len(images),figsize=(10,10))\n",
    "    if len(images) > 1:\n",
    "        for i, p in enumerate(images):\n",
    "            axs[i].imshow(p)\n",
    "            if(titles):\n",
    "                axs[i].set_title(titles[i])\n",
    "            axs[i].axis('off')\n",
    "    else:\n",
    "            axs.imshow(images[0])\n",
    "            if(titles):\n",
    "                axs.set_title(titles[0])\n",
    "            axs.axis('off')\n",
    "    plt.show()\n",
    "    \n",
    "def plot_img_gray(images, titles):\n",
    "    fig, axs = plt.subplots(nrows = 1, ncols = len(images),figsize=(10,10))\n",
    "    if len(images) > 1:\n",
    "        for i, p in enumerate(images):\n",
    "            axs[i].imshow(p, cmap=\"gray\")\n",
    "            if(titles):\n",
    "                axs[i].set_title(titles[i])\n",
    "            axs[i].axis('off')\n",
    "    else:\n",
    "            axs.imshow(images[0], cmap=\"gray\")\n",
    "            if(titles):\n",
    "                axs.set_title(titles[0])\n",
    "            axs.axis('off')\n",
    "    plt.show()\n",
    "    "
   ]
  },
  {
   "cell_type": "markdown",
   "metadata": {},
   "source": [
    "### Finding Gradient:\n"
   ]
  },
  {
   "cell_type": "code",
   "execution_count": 38,
   "metadata": {
    "scrolled": false
   },
   "outputs": [
    {
     "data": {
      "image/png": "[encoded data removed]",
      "text/plain": [
       "<Figure size 432x288 with 1 Axes>"
      ]
     },
     "metadata": {
      "needs_background": "light"
     },
     "output_type": "display_data"
    },
    {
     "data": {
      "image/png": "[encoded data removed]",
      "text/plain": [
       "<Figure size 720x720 with 5 Axes>"
      ]
     },
     "metadata": {
      "needs_background": "light"
     },
     "output_type": "display_data"
    },
    {
     "data": {
      "image/png": "[encoded data removed]",
      "text/plain": [
       "<Figure size 720x720 with 5 Axes>"
      ]
     },
     "metadata": {
      "needs_background": "light"
     },
     "output_type": "display_data"
    },
    {
     "data": {
      "image/png": "[encoded data removed]",
      "text/plain": [
       "<Figure size 720x720 with 5 Axes>"
      ]
     },
     "metadata": {
      "needs_background": "light"
     },
     "output_type": "display_data"
    },
    {
     "data": {
      "image/png": "[encoded data removed]",
      "text/plain": [
       "<Figure size 720x720 with 5 Axes>"
      ]
     },
     "metadata": {
      "needs_background": "light"
     },
     "output_type": "display_data"
    },
    {
     "data": {
      "image/png": "[encoded data removed]",
      "text/plain": [
       "<Figure size 720x720 with 5 Axes>"
      ]
     },
     "metadata": {
      "needs_background": "light"
     },
     "output_type": "display_data"
    },
    {
     "data": {
      "image/png": "[encoded data removed]",
      "text/plain": [
       "<Figure size 720x720 with 5 Axes>"
      ]
     },
     "metadata": {
      "needs_background": "light"
     },
     "output_type": "display_data"
    },
    {
     "data": {
      "image/png": "[encoded data removed]",
      "text/plain": [
       "<Figure size 720x720 with 5 Axes>"
      ]
     },
     "metadata": {
      "needs_background": "light"
     },
     "output_type": "display_data"
    },
    {
     "data": {
      "image/png": "[encoded data removed]",
      "text/plain": [
       "<Figure size 720x720 with 5 Axes>"
      ]
     },
     "metadata": {
      "needs_background": "light"
     },
     "output_type": "display_data"
    },
    {
     "data": {
      "image/png": "[encoded data removed]",
      "text/plain": [
       "<Figure size 720x720 with 5 Axes>"
      ]
     },
     "metadata": {
      "needs_background": "light"
     },
     "output_type": "display_data"
    },
    {
     "data": {
      "image/png": "[encoded data removed]",
      "text/plain": [
       "<Figure size 720x720 with 5 Axes>"
      ]
     },
     "metadata": {
      "needs_background": "light"
     },
     "output_type": "display_data"
    }
   ],
   "source": [
    "# -*- coding: utf-8 -*-\n",
    "\"\"\"\n",
    "Created on Sat Apr 25 12:02:58 2020\n",
    "\n",
    "@author: Tom Phelan and Will Wang\n",
    "\"\"\"\n",
    "\n",
    "from scipy.ndimage.filters import gaussian_filter\n",
    "\n",
    "\n",
    "\n",
    "\n",
    "def get_gradient(img):\n",
    "    #gets the gradient image\n",
    "\n",
    "\n",
    "    grad_img = cv2.Laplacian(img,cv2.CV_64F)\n",
    "    grad_img = np.abs(grad_img)\n",
    "\n",
    "    #plt.imshow(grad_img, cmap=\"gray\")\n",
    "    \n",
    "    return grad_img\n",
    "\n",
    "def get_edges(img):\n",
    "    #gets the edges in binary\n",
    "    \n",
    "    grad_img = cv2.Canny(img,100,200)\n",
    "\n",
    "\n",
    "    return grad_img\n",
    "\n",
    "def Sorting(lst): \n",
    "    lst2 = sorted(lst, key=len, reverse = True) \n",
    "    return lst2 \n",
    "      \n",
    "\n",
    "def gradient_prioritize(grad_img, edge_img):\n",
    "    \n",
    "    priority = []\n",
    "\n",
    "    #code for using basic results of contours \n",
    "    #Next steps include developing a priority weight based on length of line,\n",
    "    #proximity to center, strength of gradient, and other factors.\n",
    "    \n",
    "    contours = cv2.findContours(edge_img,cv2.RETR_LIST, cv2.CHAIN_APPROX_SIMPLE)\n",
    "    h, w = grad_img.shape   \n",
    "    \n",
    "    img = np.zeros([h, w, 3])\n",
    "    centerpt = (math.floor(h/2), math.floor(w/2))\n",
    "    nrmFactor = 255/((h+w)/2)\n",
    "    longest = len(max(contours[0], key = len))\n",
    "    lengthNorm = 255/longest\n",
    "    average_length = sum(map(len, contours[0]))/float(len(contours[0]))\n",
    "    \n",
    "    pri_list = []\n",
    "    dst = []\n",
    "    priority_pixel = []\n",
    "\n",
    "\n",
    "   \n",
    "    for i in contours[0]:\n",
    "        dst.append(len(i))\n",
    "        if len(i) > average_length:\n",
    "            #find line distance from center, normalize to 256 scale\n",
    "            avg_pt = np.average(i, axis = 0)\n",
    "            center_dist = math.ceil(abs(centerpt[0] - avg_pt[0][1]) + abs(centerpt[1] - avg_pt[0][0]))\n",
    "\n",
    "            center_dist = center_dist * nrmFactor\n",
    "            center_dist = 255 - center_dist\n",
    "\n",
    "            #find average gradient intensity \n",
    "            n = 0\n",
    "            ints = 0\n",
    "            for r in i:\n",
    "                n += 1\n",
    "                x = r[0][0]\n",
    "                y = r[0][1]\n",
    "                ints += grad_img[y, x]\n",
    "            avg_ints = ints/n\n",
    "\n",
    "            #find line length, normalize to scale\n",
    "            ln_length = len(i) * lengthNorm\n",
    "\n",
    "            pri_score = .3 * avg_ints + .2 * center_dist + .5 * ln_length\n",
    "            pri_list.append((pri_score, i))\n",
    "            \n",
    "            img = cv2.drawContours(img, [i], 0, (0,255,0), 3)\n",
    "            priority.append(np.copy(img)/255)\n",
    "\n",
    "\n",
    "    lst2 = sorted(pri_list, key = lambda score: score[0], reverse=True)\n",
    "    \n",
    "    plt.hist(dst, bins=100)\n",
    "    plt.show()\n",
    "        \n",
    "    for i in range(math.ceil(len(priority)/5) ):\n",
    "         plot_img(priority[0+i*5:i*5+5],[])\n",
    "    \n",
    "    \n",
    "    for i in lst2:\n",
    "        for j in i[1]:\n",
    "            priority_pixel.append(j[0])\n",
    "    \n",
    "    return priority_pixel\n",
    "\n",
    "\n",
    "\n",
    "def sketch_to_original(draw_img, img):\n",
    "    #creates a series of images merging between gradient image and original\n",
    "    draw_img = draw_img.astype(float)\n",
    "    nf = 60\n",
    "    img_diff = (img - draw_img)\n",
    "    img_diff /= nf\n",
    "    h, w = draw_img.shape\n",
    "    \n",
    "    output_series = []\n",
    "    \n",
    "    for i in range(nf):\n",
    "        draw_img += img_diff\n",
    "        output_series.append(Image.fromarray(cv2.cvtColor(np.rint(draw_img).astype(np.uint8), cv2.COLOR_GRAY2RGB)))\n",
    "\n",
    "    return output_series        \n",
    "    \n",
    "\n",
    "def gif_creator(img, speed, filepath):\n",
    "    #creates gif of sketching, with pixes added at rate of speed parameter\n",
    "    \n",
    "    grad_img = get_gradient(img)\n",
    "    edge_img = get_edges(img)\n",
    "    priority = gradient_prioritize(grad_img, edge_img)\n",
    "    \n",
    "    sketch_img = np.zeros(grad_img.shape).astype(np.uint8)\n",
    "    sketch_img += 255\n",
    "    \n",
    "    h, w = grad_img.shape\n",
    "    pix = 0\n",
    "\n",
    "    frames = math.ceil(len(priority)/speed)\n",
    "    \n",
    "    output_series = []\n",
    "    \n",
    "    for i in range(frames):\n",
    "        for j in range(speed):\n",
    "            x, y = priority[pix]\n",
    "            sketch_img[y, x] = img[y, x]\n",
    "            pix += 1\n",
    "        output_series.append(Image.fromarray(cv2.cvtColor(sketch_img, cv2.COLOR_GRAY2RGB)))\n",
    "\n",
    "        #adjusting last frame so it will finish the remaining pixels\n",
    "        if i == frames - 2:\n",
    "            speed = len(priority) - pix - 1\n",
    "    \n",
    "    end_merge = sketch_to_original(sketch_img, img)\n",
    "    \n",
    "    output_series += end_merge\n",
    "    \n",
    "    output_series[0].save(filepath, save_all = True,\n",
    "                          append_images = output_series[1:], duration = 40)\n",
    "    \n",
    "            \n",
    "al_img = cv2.cvtColor(cv2.imread('images/aa.jpg'), cv2.COLOR_BGR2RGB)\n",
    "al_img = cv2.cvtColor(al_img, cv2.COLOR_BGR2GRAY)\n",
    "#plt.imshow(al_img, cmap=\"gray\")\n",
    "filepath = 'output/aa.gif'\n",
    "gif_creator(al_img, 20, filepath)\n",
    "\n",
    "\n",
    "    "
   ]
  },
  {
   "cell_type": "code",
   "execution_count": 33,
   "metadata": {},
   "outputs": [
    {
     "data": {
      "text/html": [
       "<img src=\"output/aa.gif\">"
      ],
      "text/plain": [
       "<IPython.core.display.HTML object>"
      ]
     },
     "execution_count": 33,
     "metadata": {},
     "output_type": "execute_result"
    }
   ],
   "source": [
    "\n",
    "from IPython.display import HTML\n",
    "HTML('<img src=\"output/aa.gif\">')"
   ]
  },
  {
   "cell_type": "code",
   "execution_count": null,
   "metadata": {},
   "outputs": [],
   "source": []
  }
 ],
 "metadata": {
  "kernelspec": {
   "display_name": "Python 3",
   "language": "python",
   "name": "python3"
  },
  "language_info": {
   "codemirror_mode": {
    "name": "ipython",
    "version": 3
   },
   "file_extension": ".py",
   "mimetype": "text/x-python",
   "name": "python",
   "nbconvert_exporter": "python",
   "pygments_lexer": "ipython3",
   "version": "3.7.6"
  }
 },
 "nbformat": 4,
 "nbformat_minor": 4
}
