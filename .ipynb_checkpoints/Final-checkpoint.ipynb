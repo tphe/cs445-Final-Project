{
 "cells": [
  {
   "cell_type": "markdown",
   "metadata": {},
   "source": [
    "# Programming Final Project: Gradient"
   ]
  },
  {
   "cell_type": "markdown",
   "metadata": {},
   "source": [
    "## CS445: Computational Photography - Spring 2020"
   ]
  },
  {
   "cell_type": "markdown",
   "metadata": {},
   "source": [
    "### Proposal:\n",
    "We propose to create a drawing animation algorithm to “draw” a still image provided by the user. Using gradient domains we will create a “line drawing” representation of the image, then create an algorithm that fills in these lines over the course of a short animation, as if an artist were drawing the image.\n",
    "\n",
    "### Motivation:\n",
    "This project will utilize techniques learned in the class, such as gradient domains, to build an animation that can be used as an aid for students learning to draw from still images, or as an effect that could be used in places like movie trailers. This is a feature that could be used in image/video software like Photoshop or After Effects.\n"
   ]
  },
  {
   "cell_type": "code",
   "execution_count": 7,
   "metadata": {},
   "outputs": [],
   "source": [
    "\n",
    "\n",
    "# System imports\n",
    "from os import path\n",
    "import math\n",
    "from random import sample \n",
    "from scipy.sparse import csr_matrix\n",
    "from scipy.sparse import lil_matrix\n",
    "import scipy.sparse.linalg as la\n",
    "\n",
    "\n",
    "# Third-Party Imports\n",
    "import cv2\n",
    "import matplotlib.pyplot as plt\n",
    "import numpy as np\n",
    "from scipy.interpolate import griddata\n",
    "\n",
    "import warnings\n",
    "warnings.filterwarnings('ignore')\n",
    "\n",
    "def plot_img(images, titles):\n",
    "    fig, axs = plt.subplots(nrows = 1, ncols = len(images),figsize=(10,10))\n",
    "    if len(images) > 1:\n",
    "        for i, p in enumerate(images):\n",
    "            axs[i].imshow(p)\n",
    "            axs[i].set_title(titles[i])\n",
    "            axs[i].axis('off')\n",
    "    else:\n",
    "            axs.imshow(images[0])\n",
    "            axs.set_title(titles[0])\n",
    "            axs.axis('off')\n",
    "    plt.show()\n",
    "    \n",
    "def plot_img_gray(images, titles):\n",
    "    fig, axs = plt.subplots(nrows = 1, ncols = len(images),figsize=(10,10))\n",
    "    if len(images) > 1:\n",
    "        for i, p in enumerate(images):\n",
    "            axs[i].imshow(p, cmap=\"gray\")\n",
    "            axs[i].set_title(titles[i])\n",
    "            axs[i].axis('off')\n",
    "    else:\n",
    "            axs.imshow(images[0], cmap=\"gray\")\n",
    "            axs.set_title(titles[0])\n",
    "            axs.axis('off')\n",
    "    plt.show()\n",
    "    "
   ]
  },
  {
   "cell_type": "markdown",
   "metadata": {},
   "source": [
    "### Finding Gradient:\n"
   ]
  },
  {
   "cell_type": "code",
   "execution_count": 2,
   "metadata": {},
   "outputs": [
    {
     "ename": "SyntaxError",
     "evalue": "unexpected EOF while parsing (<ipython-input-2-50b5b3dbdd3e>, line 40)",
     "output_type": "error",
     "traceback": [
      "\u001b[0;36m  File \u001b[0;32m\"<ipython-input-2-50b5b3dbdd3e>\"\u001b[0;36m, line \u001b[0;32m40\u001b[0m\n\u001b[0;31m    #creates gif of sketching, with pixes added at rate of speed parameter\u001b[0m\n\u001b[0m                                                                          ^\u001b[0m\n\u001b[0;31mSyntaxError\u001b[0m\u001b[0;31m:\u001b[0m unexpected EOF while parsing\n"
     ]
    }
   ],
   "source": [
    "\n",
    "alfred_file = cv2.imread(\"./images/alfred.png\", cv2.IMREAD_GRAYSCALE)\n",
    "\n",
    "alfred = alfred_file.astype(\"double\") / 255\n",
    "\n",
    "plot_img_gray([alfred],[\"alfred\"])\n",
    "\n",
    "\n",
    "\n",
    "def get_gradient(img):\n",
    "    #gets the gradient image\n",
    "    grad_img = cv2.Canny(img,100,200)\n",
    "\n",
    "    plt.imshow(grad_img, cmap=\"gray\")\n",
    "    \n",
    "    return grad_img\n",
    "\n",
    "def gradient_prioritize(grad_img):\n",
    "    \n",
    "    #for now, just labeling each pixel sequentially. Add better criteria later.\n",
    "    #look into the Canny edge detector algorithm for blob/length detection\n",
    "    h, w = grad_img.shape\n",
    "    \n",
    "    s = 1\n",
    "    \n",
    "    priority = np.zeros(grad_img.shape)\n",
    "    \n",
    "    for i in range(len(h)):\n",
    "        for j in range(len(w)):\n",
    "            if grad_img[h,w] > 0:\n",
    "                priority[h,w] = s\n",
    "                s += 1\n",
    "    \n",
    "    return priority\n",
    "\n",
    "def sketch_to_original(grad_img, img):\n",
    "    #creates gif of merge between gradient image an original\n",
    "    return\n",
    "\n",
    "def gif_creator(grad_img, priority, speed):\n",
    "    #creates gif of sketching, with pixes added at rate of speed parameter\n",
    "    return"
   ]
  },
  {
   "cell_type": "code",
   "execution_count": null,
   "metadata": {},
   "outputs": [],
   "source": []
  },
  {
   "cell_type": "code",
   "execution_count": null,
   "metadata": {},
   "outputs": [],
   "source": []
  }
 ],
 "metadata": {
  "kernelspec": {
   "display_name": "Python 3",
   "language": "python",
   "name": "python3"
  },
  "language_info": {
   "codemirror_mode": {
    "name": "ipython",
    "version": 3
   },
   "file_extension": ".py",
   "mimetype": "text/x-python",
   "name": "python",
   "nbconvert_exporter": "python",
   "pygments_lexer": "ipython3",
   "version": "3.7.6"
  }
 },
 "nbformat": 4,
 "nbformat_minor": 4
}
